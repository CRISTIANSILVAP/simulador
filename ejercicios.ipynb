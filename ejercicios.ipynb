{
 "cells": [
  {
   "cell_type": "markdown",
   "metadata": {},
   "source": [
    "# Simule el primer sistema cuántico descrito.\n",
    " El sistema consiste en una partícula confinada a un conjunto discreto de posiciones en una línea. El simulador debe permitir especificar el número de posiciones y un vector ket de estado asignando las amplitudes.\n",
    "1. El sistema debe calcular la probabilidad de encontrarlo en una posición en particular.\n",
    "2. El sistema si se le da otro vector Ket debe buscar la probabilidad de transitar del primer vector al segundo."
   ]
  },
  {
   "cell_type": "code",
   "execution_count": 56,
   "metadata": {},
   "outputs": [
    {
     "name": "stdout",
     "output_type": "stream",
     "text": [
      "probabilidad en esa posicion 1\n",
      "0.0\n",
      "The transition probability between vector [1. 0.] and vector [0.70710678 0.70710678]\n",
      "0.7071067811865475\n"
     ]
    }
   ],
   "source": [
    "import numpy as np\n",
    "\n",
    "# point 1\n",
    "# First, define the system's preconditions.\n",
    "numberOfPositions = 3 \n",
    "ketVector = np.array([1, 0])\n",
    "\n",
    "# Calculate the norm of the ketVector.\n",
    "ketVectorNorm = np.linalg.norm(ketVector)\n",
    "ketVector = ketVector / ketVectorNorm\n",
    "\n",
    "position = 1  \n",
    "print(\"probabilidad en esa posicion\", position)\n",
    "probabilityPosition = ketVector[position] ** 2\n",
    "print(probabilityPosition)\n",
    "\n",
    "ketVector2 = np.array([1,1])  # Vector for which we want to calculate the transition probability\n",
    "# Calculate the norm of ketVector2.\n",
    "ketVector2Norm = np.linalg.norm(ketVector2)\n",
    "ketVector2 = ketVector2 / ketVector2Norm\n",
    "\n",
    "transitionProbability = np.dot(np.conjugate(ketVector2.T), ketVector)\n",
    "print(\"The transition probability between vector\", ketVector, \"and vector\", ketVector2)\n",
    "print(transitionProbability)\n",
    "\n"
   ]
  },
  {
   "cell_type": "markdown",
   "metadata": {},
   "source": [
    "# Realice los siguientes problemas e incluyalos como ejemplos\n",
    "Modele en su librería los problemas\n",
    "# 4.3.1\n",
    "# 4.3.2\n",
    "# 4.4.1\n",
    "# 4.4.2\n",
    "Desarrolle e incluya en el Github una discusión de los ejercicios \n",
    "#  4.5.2 \n",
    "#  4.5.3"
   ]
  },
  {
   "cell_type": "code",
   "execution_count": 53,
   "metadata": {},
   "outputs": [
    {
     "name": "stdout",
     "output_type": "stream",
     "text": [
      "4.3.1\n",
      "La probabilidad de transicion del Ket al vector e1= \n",
      "estados=\n",
      "[[ 0.70710678 -0.70710678]\n",
      " [ 0.70710678  0.70710678]]\n",
      "\n",
      "4.3.2\n",
      "The probabilities from the ket to e1: 0.4999999999999999\n",
      "The probabilities from the ket to e2: 0.4999999999999999\n",
      "calcular el valor medio \n",
      "[ 1. -1.] [np.float64(0.4999999999999999), np.float64(0.4999999999999999)]\n",
      "0.0\n",
      "\n",
      "4.4.1\n",
      "unataria\n",
      "\n",
      "4.4.2\n",
      "estado= [ 0.        +0.j         -0.70710678+0.70710678j  0.        +0.j\n",
      "  0.        +0.j        ]\n",
      "\n",
      "4.5.2\n",
      "como el pasado\n",
      "La probabilidad en cualquier punto =: 0.16666666666666666\n"
     ]
    }
   ],
   "source": [
    "\n",
    "import numpy as np\n",
    "import sistema_cuantico as p\n",
    "\n",
    "print(\"4.3.1\")\n",
    "print(\"La probabilidad de transicion del Ket al vector e1= \")\n",
    "Ket =[1,0]\n",
    "matrix = [[0,1],[1,0]]\n",
    "probabilidades, valoresPropios,vectoresPropios = p.calculateTransitionOfEigenvectors(matrix,Ket)\n",
    "print(\"estados=\")\n",
    "print(vectoresPropios)\n",
    "\n",
    "print()\n",
    "\n",
    "## 4.3.2\n",
    "print(f\"4.3.2\\n\"\n",
    "      f\"The probabilities from the ket to e1: {probabilidades[0]}\\n\"\n",
    "      f\"The probabilities from the ket to e2: {probabilidades[1]}\")\n",
    "print(\"calcular el valor medio \")\n",
    "print(valoresPropios,probabilidades)\n",
    "media = probabilidades[0]*int(np.int32(valoresPropios[0])) \n",
    "media += probabilidades[1]*int(np.int32(valoresPropios[1])) \n",
    "print(media)\n",
    "\n",
    "\n",
    "print()\n",
    "\n",
    "# 4.4.1\n",
    "print(\"4.4.1\")\n",
    "a1 = [[0,1],[1,0]]\n",
    "n = 2**(1/2)/2\n",
    "a2 = [[n,n],[n,-n]]\n",
    "a3 = np.dot(a1,a2)\n",
    "Imatrix = np.eye(int(2))\n",
    "a3U = np.dot(np.conjugate(a3).T,a3)\n",
    "isUnitary = np.allclose(a3U,Imatrix)\n",
    "if isUnitary:\n",
    "    print(\"unataria\")\n",
    "\n",
    "\n",
    "print()\n",
    "\n",
    "# 4.4.2\n",
    "print(\"4.4.2\")\n",
    "\n",
    "coeficiente_b = 1 / (2**(1/2))\n",
    "estado_inicial = np.array(np.transpose([1, 0, 0, 0]))\n",
    "matriz_transicion = np.array([[0, coeficiente_b, coeficiente_b, 0],\n",
    "                               [(1j / (2**(1/2))), 0, 0, coeficiente_b],\n",
    "                               [coeficiente_b, 0, 0, 1j / (2**(1/2))],\n",
    "                               [0, coeficiente_b, -coeficiente_b, 0]])\n",
    "\n",
    "for _ in range(3):\n",
    "    estado_inicial = np.dot(matriz_transicion, estado_inicial)\n",
    "\n",
    "print(f\"estado= {estado_inicial}\")\n",
    "\n",
    "print()\n",
    "\n",
    "# 4.5.2\n",
    "print(\"4.5.2\")\n",
    "print(\"como el pasado\")\n",
    "num = 1 + 1j\n",
    "p= 2/(2*6)\n",
    "print(\"La probabilidad en cualquier punto =:\",p)\n",
    "\n"
   ]
  }
 ],
 "metadata": {
  "kernelspec": {
   "display_name": "Python 3",
   "language": "python",
   "name": "python3"
  },
  "language_info": {
   "codemirror_mode": {
    "name": "ipython",
    "version": 3
   },
   "file_extension": ".py",
   "mimetype": "text/x-python",
   "name": "python",
   "nbconvert_exporter": "python",
   "pygments_lexer": "ipython3",
   "version": "3.12.7"
  }
 },
 "nbformat": 4,
 "nbformat_minor": 2
}
